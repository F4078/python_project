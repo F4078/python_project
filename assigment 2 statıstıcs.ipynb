{
 "cells": [
  {
   "cell_type": "code",
   "execution_count": 138,
   "id": "e10ed583",
   "metadata": {},
   "outputs": [],
   "source": [
    "import numpy as np\n",
    "from scipy import stats\n",
    "import matplotlib.pyplot as plt\n",
    "import seaborn as sns\n",
    "import pandas as pd"
   ]
  },
  {
   "cell_type": "markdown",
   "id": "b0f385d2",
   "metadata": {},
   "source": [
    "# EXERCISE 1. \n",
    "What is the normal body temperature for healthy humans? A random sample of 130 healthy human body temperatures provided by\n",
    "\n",
    "Allen Shoemaker yielded 98.25 degrees and standard deviation 0.73 degrees. \n",
    "\n",
    "Give a 99% confidence interval for the average body temperature of healthy people."
   ]
  },
  {
   "cell_type": "code",
   "execution_count": 139,
   "id": "19496fa3",
   "metadata": {},
   "outputs": [],
   "source": [
    "n = 130 # sample size \n",
    "xbar = 98.25 # mean of sample \n",
    "sigma  = 0.73 # standard deviation of sample "
   ]
  },
  {
   "cell_type": "code",
   "execution_count": 140,
   "id": "e5277b7b",
   "metadata": {},
   "outputs": [
    {
     "data": {
      "text/plain": [
       "0.06402523540941313"
      ]
     },
     "execution_count": 140,
     "metadata": {},
     "output_type": "execute_result"
    }
   ],
   "source": [
    "sem = sigma / np.sqrt(n)\n",
    "sem"
   ]
  },
  {
   "cell_type": "code",
   "execution_count": 141,
   "id": "cf7505d4",
   "metadata": {},
   "outputs": [
    {
     "data": {
      "text/plain": [
       "(98.08508192246582, 98.41491807753418)"
      ]
     },
     "execution_count": 141,
     "metadata": {},
     "output_type": "execute_result"
    }
   ],
   "source": [
    "convidence_interval = stats.norm.interval(confidence = 0.99, loc = xbar, scale = sem)\n",
    "convidence_interval"
   ]
  },
  {
   "cell_type": "markdown",
   "id": "52b33817",
   "metadata": {},
   "source": [
    " **result** : % 99 güvenirlikle 130 sağlıklı kişinin vucut sıcaklığı (98.08508192246582, 98.41491807753418) bu aralıktadır."
   ]
  },
  {
   "cell_type": "markdown",
   "id": "8b7b4543",
   "metadata": {},
   "source": [
    "# EXERCISE 2.\n",
    "The administrators for a hospital wished to estimate the average number of days required for inpatient treatment of  \n",
    "\n",
    "patients between the ages of 25 and 34. A random sample of 500 hospital patients between these ages produced a mean and \n",
    "\n",
    "standard deviation equal to 5.4 and 3.1 days, respectively.\n",
    "\n",
    "Construct a 95% confidence interval for the mean length of stay for the population of patients from which the sample was drawn."
   ]
  },
  {
   "cell_type": "code",
   "execution_count": 142,
   "id": "97fd40f4",
   "metadata": {},
   "outputs": [],
   "source": [
    "n = 500 \n",
    "sigma = 3.1\n",
    "xbar = 5.4"
   ]
  },
  {
   "cell_type": "code",
   "execution_count": 143,
   "id": "8403a9f4",
   "metadata": {},
   "outputs": [
    {
     "data": {
      "text/plain": [
       "0.13863621460498696"
      ]
     },
     "execution_count": 143,
     "metadata": {},
     "output_type": "execute_result"
    }
   ],
   "source": [
    "sem = sigma / np.sqrt(n)\n",
    "sem"
   ]
  },
  {
   "cell_type": "code",
   "execution_count": 144,
   "id": "a6646200",
   "metadata": {},
   "outputs": [
    {
     "data": {
      "text/plain": [
       "(-0.6758883520741676, 11.475888352074168)"
      ]
     },
     "execution_count": 144,
     "metadata": {},
     "output_type": "execute_result"
    }
   ],
   "source": [
    "convidence_interval = stats.norm.interval(confidence= 0.95 ,loc = xbar, scale = sigma )\n",
    "convidence_interval"
   ]
  },
  {
   "cell_type": "markdown",
   "id": "097ea5cf",
   "metadata": {},
   "source": [
    "**result** = 25 ve 34 yaş aralığında hastaların hastanede yatarak tedavi olma günleri % 95 güvenirliğe göre (-0.6758883520741676, 11.475888352074168) bu aralıktadır."
   ]
  },
  {
   "cell_type": "markdown",
   "id": "ceecdec0",
   "metadata": {},
   "source": [
    "# EXERCISE 3. \n",
    "The hourly wages in a particular industry are normally distributed with mean 13.20 dolar and standard deviation $2.50. A company \n",
    "\n",
    "in this industry employs 40 workers, paying them an average of $12.20 per hour. Can this company be accused of paying \n",
    "\n",
    "substandard wages? Use an α = .01 level test. (Wackerly, Ex.10.18)\n",
    "\n",
    "CHECK: statistic: -2.5298221281347035, pvalue= 0.005706018193000826"
   ]
  },
  {
   "cell_type": "code",
   "execution_count": 145,
   "id": "c0d69fb3",
   "metadata": {},
   "outputs": [
    {
     "data": {
      "text/plain": [
       "-2.5298221281347035"
      ]
     },
     "execution_count": 145,
     "metadata": {},
     "output_type": "execute_result"
    }
   ],
   "source": [
    "# h0 : mu0 = 13.20, sigma = 2.50\n",
    "# h1 : mu1 = 12.20\n",
    "alpha = 0.01\n",
    "mu0 = 13.20\n",
    "xbar = 12.20\n",
    "sigma = 2.50\n",
    "n = 40\n",
    "z = (xbar - mu0) / (sigma / np.sqrt(n))\n",
    "z"
   ]
  },
  {
   "cell_type": "code",
   "execution_count": 146,
   "id": "fd8d20c4",
   "metadata": {},
   "outputs": [
    {
     "data": {
      "text/plain": [
       "0.005706018193000826"
      ]
     },
     "execution_count": 146,
     "metadata": {},
     "output_type": "execute_result"
    }
   ],
   "source": [
    "p_value = stats.norm.cdf(z)\n",
    "p_value"
   ]
  },
  {
   "cell_type": "code",
   "execution_count": 147,
   "id": "fd8708d8",
   "metadata": {},
   "outputs": [
    {
     "name": "stdout",
     "output_type": "stream",
     "text": [
      "bu şirket ödeme yapmakla şuçlanır\n"
     ]
    }
   ],
   "source": [
    "if p_value > alpha :\n",
    "    print(\"Bu şirket ödeme yapmakla şuclanmaz \")\n",
    "else :\n",
    "    print(\"bu şirket ödeme yapmakla şuçlanır\")"
   ]
  },
  {
   "cell_type": "markdown",
   "id": "2512ee34",
   "metadata": {},
   "source": [
    "# EXERCISE 4.\n",
    "Shear strength measurements derived from unconfined compression tests for two types of soils gave the results shown in the \n",
    "\n",
    "following document (measurements in tons per square foot). Do the soils appear to differ with respect to average shear \n",
    "\n",
    "strength, at the 1% significance level? "
   ]
  },
  {
   "cell_type": "code",
   "execution_count": 148,
   "id": "696c5256",
   "metadata": {},
   "outputs": [],
   "source": [
    "soil1 = [1.442,1.943,1.11,1.912,1.553,1.641,1.499,1.347,1.685,1.578,1.866,1.653,1.665,1.64,\n",
    "         1.976,1.754,1.589,1.976,1.863,1.932,1.57,1.613,2.054,1.55,1.714,1.896,1.737,1.74,1.708,1.54]\n",
    "\n",
    "\n",
    "soil2 = [1.364,1.878,1.337,1.828,1.371,1.428,1.119,1.373,1.589,1.714,1.26,1.492,1.395,1.778,1.611,1.202,1.542,1.094,1.557,\n",
    "         1.053,1.183,1.367,1.144,1.151,1.561,1.192,1.489,1.379,1.501,1.277,1.593,1.172,1.51,1.74,1.355]\n",
    "\n",
    "alpha = 0.005 "
   ]
  },
  {
   "cell_type": "code",
   "execution_count": 149,
   "id": "62dbaa88",
   "metadata": {},
   "outputs": [
    {
     "data": {
      "text/plain": [
       "30"
      ]
     },
     "execution_count": 149,
     "metadata": {},
     "output_type": "execute_result"
    }
   ],
   "source": [
    "len(soil1)"
   ]
  },
  {
   "cell_type": "code",
   "execution_count": 150,
   "id": "14eff60a",
   "metadata": {},
   "outputs": [
    {
     "data": {
      "text/plain": [
       "35"
      ]
     },
     "execution_count": 150,
     "metadata": {},
     "output_type": "execute_result"
    }
   ],
   "source": [
    "len(soil2)"
   ]
  },
  {
   "cell_type": "code",
   "execution_count": 151,
   "id": "b3a25bf5",
   "metadata": {},
   "outputs": [
    {
     "data": {
      "text/plain": [
       "LeveneResult(statistic=0.30588570937544846, pvalue=0.5821732603362084)"
      ]
     },
     "execution_count": 151,
     "metadata": {},
     "output_type": "execute_result"
    }
   ],
   "source": [
    "leveneTest = stats.levene(soil1, soil2)\n",
    "leveneTest \n",
    "# p_value alpha dan daha büyük olduğu için equal_var = True olur."
   ]
  },
  {
   "cell_type": "code",
   "execution_count": 152,
   "id": "c997ed8b",
   "metadata": {},
   "outputs": [
    {
     "data": {
      "text/plain": [
       "1.6915333333333333"
      ]
     },
     "execution_count": 152,
     "metadata": {},
     "output_type": "execute_result"
    }
   ],
   "source": [
    "np.mean(soil1)"
   ]
  },
  {
   "cell_type": "code",
   "execution_count": 153,
   "id": "5c986ea8",
   "metadata": {},
   "outputs": [
    {
     "data": {
      "text/plain": [
       "1.4171142857142855"
      ]
     },
     "execution_count": 153,
     "metadata": {},
     "output_type": "execute_result"
    }
   ],
   "source": [
    "np.mean(soil2)"
   ]
  },
  {
   "cell_type": "code",
   "execution_count": 154,
   "id": "6c7a3656",
   "metadata": {},
   "outputs": [],
   "source": [
    "# H0 : mu1 = mu2 \n",
    "# h1 : mu1 != mu2 "
   ]
  },
  {
   "cell_type": "code",
   "execution_count": 155,
   "id": "cf4068e7",
   "metadata": {},
   "outputs": [
    {
     "data": {
      "text/plain": [
       "Ttest_indResult(statistic=5.161009752530635, pvalue=2.6636206946132346e-06)"
      ]
     },
     "execution_count": 155,
     "metadata": {},
     "output_type": "execute_result"
    }
   ],
   "source": [
    "indTest = stats.ttest_ind(soil1, soil2 ,equal_var = True)\n",
    "indTest"
   ]
  },
  {
   "cell_type": "code",
   "execution_count": 156,
   "id": "ec237dc3",
   "metadata": {},
   "outputs": [
    {
     "name": "stdout",
     "output_type": "stream",
     "text": [
      " H0 hipotezini reject ederiz\n"
     ]
    }
   ],
   "source": [
    "# Decision\n",
    "alpha = 0.05\n",
    "\n",
    "if indTest.pvalue < alpha:\n",
    "    print(\" H0 hipotezini reject ederiz\")\n",
    "else:\n",
    "    print(\" H0 hipotezini reject edemeyiz\")"
   ]
  },
  {
   "cell_type": "markdown",
   "id": "38761d5e",
   "metadata": {},
   "source": [
    "# EXERCISE 5. \n",
    "The following dataset is based on data provided by the World Bank (https://datacatalog.worldbank.org/dataset/education-statistics). World Bank Edstats.  2015 PISA Test Dataset\n",
    "\n",
    "   Get descriptive statistics (the central tendency, dispersion and shape of a dataset’s distribution) for each continent group (AS, EU, AF, NA, SA, OC).\n",
    "   \n",
    "   Determine whether there is any difference (on the average) for the math scores among European (EU) and Asian (AS) countries (assume normality and equal variances). Draw side-by-side box plots.\n"
   ]
  },
  {
   "cell_type": "code",
   "execution_count": 157,
   "id": "6a97b9ef",
   "metadata": {},
   "outputs": [
    {
     "data": {
      "text/html": [
       "<div>\n",
       "<style scoped>\n",
       "    .dataframe tbody tr th:only-of-type {\n",
       "        vertical-align: middle;\n",
       "    }\n",
       "\n",
       "    .dataframe tbody tr th {\n",
       "        vertical-align: top;\n",
       "    }\n",
       "\n",
       "    .dataframe thead th {\n",
       "        text-align: right;\n",
       "    }\n",
       "</style>\n",
       "<table border=\"1\" class=\"dataframe\">\n",
       "  <thead>\n",
       "    <tr style=\"text-align: right;\">\n",
       "      <th></th>\n",
       "      <th>Country Code</th>\n",
       "      <th>Continent_Code</th>\n",
       "      <th>internet_users_per_100</th>\n",
       "      <th>Math</th>\n",
       "      <th>Reading</th>\n",
       "      <th>Science</th>\n",
       "    </tr>\n",
       "  </thead>\n",
       "  <tbody>\n",
       "    <tr>\n",
       "      <th>0</th>\n",
       "      <td>ALB</td>\n",
       "      <td>EU</td>\n",
       "      <td>63.252933</td>\n",
       "      <td>413.1570</td>\n",
       "      <td>405.2588</td>\n",
       "      <td>427.2250</td>\n",
       "    </tr>\n",
       "    <tr>\n",
       "      <th>1</th>\n",
       "      <td>ARE</td>\n",
       "      <td>AS</td>\n",
       "      <td>90.500000</td>\n",
       "      <td>427.4827</td>\n",
       "      <td>433.5423</td>\n",
       "      <td>436.7311</td>\n",
       "    </tr>\n",
       "    <tr>\n",
       "      <th>2</th>\n",
       "      <td>ARG</td>\n",
       "      <td>SA</td>\n",
       "      <td>68.043064</td>\n",
       "      <td>409.0333</td>\n",
       "      <td>425.3031</td>\n",
       "      <td>432.2262</td>\n",
       "    </tr>\n",
       "    <tr>\n",
       "      <th>3</th>\n",
       "      <td>AUS</td>\n",
       "      <td>OC</td>\n",
       "      <td>84.560519</td>\n",
       "      <td>493.8962</td>\n",
       "      <td>502.9006</td>\n",
       "      <td>509.9939</td>\n",
       "    </tr>\n",
       "    <tr>\n",
       "      <th>4</th>\n",
       "      <td>AUT</td>\n",
       "      <td>EU</td>\n",
       "      <td>83.940142</td>\n",
       "      <td>496.7423</td>\n",
       "      <td>484.8656</td>\n",
       "      <td>495.0375</td>\n",
       "    </tr>\n",
       "  </tbody>\n",
       "</table>\n",
       "</div>"
      ],
      "text/plain": [
       "  Country Code Continent_Code  internet_users_per_100      Math   Reading  \\\n",
       "0          ALB             EU               63.252933  413.1570  405.2588   \n",
       "1          ARE             AS               90.500000  427.4827  433.5423   \n",
       "2          ARG             SA               68.043064  409.0333  425.3031   \n",
       "3          AUS             OC               84.560519  493.8962  502.9006   \n",
       "4          AUT             EU               83.940142  496.7423  484.8656   \n",
       "\n",
       "    Science  \n",
       "0  427.2250  \n",
       "1  436.7311  \n",
       "2  432.2262  \n",
       "3  509.9939  \n",
       "4  495.0375  "
      ]
     },
     "execution_count": 157,
     "metadata": {},
     "output_type": "execute_result"
    }
   ],
   "source": [
    "df = pd.read_csv(\"2015 PISA Test - Sheet1.csv\")\n",
    "df.head()"
   ]
  },
  {
   "cell_type": "code",
   "execution_count": 158,
   "id": "19921431",
   "metadata": {},
   "outputs": [
    {
     "data": {
      "text/plain": [
       "array(['EU', 'AS', 'SA', 'OC', nan, 'AF'], dtype=object)"
      ]
     },
     "execution_count": 158,
     "metadata": {},
     "output_type": "execute_result"
    }
   ],
   "source": [
    "df.Continent_Code.unique()"
   ]
  },
  {
   "cell_type": "code",
   "execution_count": 159,
   "id": "d1452399",
   "metadata": {},
   "outputs": [
    {
     "name": "stdout",
     "output_type": "stream",
     "text": [
      "<class 'pandas.core.frame.DataFrame'>\n",
      "RangeIndex: 70 entries, 0 to 69\n",
      "Data columns (total 6 columns):\n",
      " #   Column                  Non-Null Count  Dtype  \n",
      "---  ------                  --------------  -----  \n",
      " 0   Country Code            70 non-null     object \n",
      " 1   Continent_Code          65 non-null     object \n",
      " 2   internet_users_per_100  70 non-null     float64\n",
      " 3   Math                    70 non-null     float64\n",
      " 4   Reading                 70 non-null     float64\n",
      " 5   Science                 70 non-null     float64\n",
      "dtypes: float64(4), object(2)\n",
      "memory usage: 3.4+ KB\n"
     ]
    }
   ],
   "source": [
    "df.info()"
   ]
  },
  {
   "cell_type": "code",
   "execution_count": 160,
   "id": "cb36b92a",
   "metadata": {},
   "outputs": [
    {
     "data": {
      "text/html": [
       "<div>\n",
       "<style scoped>\n",
       "    .dataframe tbody tr th:only-of-type {\n",
       "        vertical-align: middle;\n",
       "    }\n",
       "\n",
       "    .dataframe tbody tr th {\n",
       "        vertical-align: top;\n",
       "    }\n",
       "\n",
       "    .dataframe thead th {\n",
       "        text-align: right;\n",
       "    }\n",
       "</style>\n",
       "<table border=\"1\" class=\"dataframe\">\n",
       "  <thead>\n",
       "    <tr style=\"text-align: right;\">\n",
       "      <th></th>\n",
       "      <th>count</th>\n",
       "      <th>unique</th>\n",
       "      <th>top</th>\n",
       "      <th>freq</th>\n",
       "    </tr>\n",
       "  </thead>\n",
       "  <tbody>\n",
       "    <tr>\n",
       "      <th>Country Code</th>\n",
       "      <td>70</td>\n",
       "      <td>70</td>\n",
       "      <td>ALB</td>\n",
       "      <td>1</td>\n",
       "    </tr>\n",
       "    <tr>\n",
       "      <th>Continent_Code</th>\n",
       "      <td>65</td>\n",
       "      <td>5</td>\n",
       "      <td>EU</td>\n",
       "      <td>37</td>\n",
       "    </tr>\n",
       "  </tbody>\n",
       "</table>\n",
       "</div>"
      ],
      "text/plain": [
       "               count unique  top freq\n",
       "Country Code      70     70  ALB    1\n",
       "Continent_Code    65      5   EU   37"
      ]
     },
     "execution_count": 160,
     "metadata": {},
     "output_type": "execute_result"
    }
   ],
   "source": [
    "df.describe(include = \"object\").T"
   ]
  },
  {
   "cell_type": "code",
   "execution_count": 161,
   "id": "2d44163d",
   "metadata": {},
   "outputs": [
    {
     "data": {
      "text/plain": [
       "(70, 6)"
      ]
     },
     "execution_count": 161,
     "metadata": {},
     "output_type": "execute_result"
    }
   ],
   "source": [
    "df.shape"
   ]
  },
  {
   "cell_type": "code",
   "execution_count": 162,
   "id": "5744e7bf",
   "metadata": {},
   "outputs": [
    {
     "data": {
      "text/plain": [
       "Country Code              0\n",
       "Continent_Code            5\n",
       "internet_users_per_100    0\n",
       "Math                      0\n",
       "Reading                   0\n",
       "Science                   0\n",
       "dtype: int64"
      ]
     },
     "execution_count": 162,
     "metadata": {},
     "output_type": "execute_result"
    }
   ],
   "source": [
    "df.isnull().sum()"
   ]
  },
  {
   "cell_type": "code",
   "execution_count": 163,
   "id": "03a83216",
   "metadata": {},
   "outputs": [],
   "source": [
    "df.dropna(inplace = True)"
   ]
  },
  {
   "cell_type": "code",
   "execution_count": 164,
   "id": "b32664e7",
   "metadata": {},
   "outputs": [
    {
     "data": {
      "text/plain": [
       "Country Code              0\n",
       "Continent_Code            0\n",
       "internet_users_per_100    0\n",
       "Math                      0\n",
       "Reading                   0\n",
       "Science                   0\n",
       "dtype: int64"
      ]
     },
     "execution_count": 164,
     "metadata": {},
     "output_type": "execute_result"
    }
   ],
   "source": [
    "df.isnull().sum()"
   ]
  },
  {
   "cell_type": "code",
   "execution_count": 165,
   "id": "cbe31adc",
   "metadata": {},
   "outputs": [
    {
     "data": {
      "text/plain": [
       "(65, 6)"
      ]
     },
     "execution_count": 165,
     "metadata": {},
     "output_type": "execute_result"
    }
   ],
   "source": [
    "df.shape"
   ]
  },
  {
   "cell_type": "code",
   "execution_count": 166,
   "id": "33993a74",
   "metadata": {},
   "outputs": [
    {
     "data": {
      "text/html": [
       "<div>\n",
       "<style scoped>\n",
       "    .dataframe tbody tr th:only-of-type {\n",
       "        vertical-align: middle;\n",
       "    }\n",
       "\n",
       "    .dataframe tbody tr th {\n",
       "        vertical-align: top;\n",
       "    }\n",
       "\n",
       "    .dataframe thead th {\n",
       "        text-align: right;\n",
       "    }\n",
       "</style>\n",
       "<table border=\"1\" class=\"dataframe\">\n",
       "  <thead>\n",
       "    <tr style=\"text-align: right;\">\n",
       "      <th></th>\n",
       "      <th>count</th>\n",
       "      <th>mean</th>\n",
       "      <th>std</th>\n",
       "      <th>min</th>\n",
       "      <th>25%</th>\n",
       "      <th>50%</th>\n",
       "      <th>75%</th>\n",
       "      <th>max</th>\n",
       "    </tr>\n",
       "  </thead>\n",
       "  <tbody>\n",
       "    <tr>\n",
       "      <th>internet_users_per_100</th>\n",
       "      <td>65.0</td>\n",
       "      <td>72.364354</td>\n",
       "      <td>16.570118</td>\n",
       "      <td>21.976068</td>\n",
       "      <td>63.306625</td>\n",
       "      <td>73.0987</td>\n",
       "      <td>85.0529</td>\n",
       "      <td>98.2000</td>\n",
       "    </tr>\n",
       "    <tr>\n",
       "      <th>Math</th>\n",
       "      <td>65.0</td>\n",
       "      <td>463.796218</td>\n",
       "      <td>51.293822</td>\n",
       "      <td>359.606200</td>\n",
       "      <td>417.991900</td>\n",
       "      <td>478.6448</td>\n",
       "      <td>501.7298</td>\n",
       "      <td>564.1897</td>\n",
       "    </tr>\n",
       "    <tr>\n",
       "      <th>Reading</th>\n",
       "      <td>65.0</td>\n",
       "      <td>462.118551</td>\n",
       "      <td>48.443166</td>\n",
       "      <td>346.549000</td>\n",
       "      <td>427.141000</td>\n",
       "      <td>481.4391</td>\n",
       "      <td>499.8146</td>\n",
       "      <td>535.1002</td>\n",
       "    </tr>\n",
       "    <tr>\n",
       "      <th>Science</th>\n",
       "      <td>65.0</td>\n",
       "      <td>467.535888</td>\n",
       "      <td>45.762751</td>\n",
       "      <td>375.745100</td>\n",
       "      <td>427.997800</td>\n",
       "      <td>475.4089</td>\n",
       "      <td>502.5751</td>\n",
       "      <td>555.5747</td>\n",
       "    </tr>\n",
       "  </tbody>\n",
       "</table>\n",
       "</div>"
      ],
      "text/plain": [
       "                        count        mean        std         min         25%  \\\n",
       "internet_users_per_100   65.0   72.364354  16.570118   21.976068   63.306625   \n",
       "Math                     65.0  463.796218  51.293822  359.606200  417.991900   \n",
       "Reading                  65.0  462.118551  48.443166  346.549000  427.141000   \n",
       "Science                  65.0  467.535888  45.762751  375.745100  427.997800   \n",
       "\n",
       "                             50%       75%       max  \n",
       "internet_users_per_100   73.0987   85.0529   98.2000  \n",
       "Math                    478.6448  501.7298  564.1897  \n",
       "Reading                 481.4391  499.8146  535.1002  \n",
       "Science                 475.4089  502.5751  555.5747  "
      ]
     },
     "execution_count": 166,
     "metadata": {},
     "output_type": "execute_result"
    }
   ],
   "source": [
    "df.describe().T"
   ]
  },
  {
   "cell_type": "code",
   "execution_count": 167,
   "id": "7f8f2586",
   "metadata": {},
   "outputs": [],
   "source": [
    "# H0 : mu1 = mu2  (Asya ülkelerin ve Avrupa ülkelerin matematik ortalaması birbirine eşit )\n",
    "# H1 : mu1 != mu2  (alernatif hipotezimiz bu iki ülkenin matematik ortalamasının birbirine eşit degil)"
   ]
  },
  {
   "cell_type": "code",
   "execution_count": 168,
   "id": "5469eccf",
   "metadata": {},
   "outputs": [
    {
     "data": {
      "text/plain": [
       "1     427.4827\n",
       "11    531.2961\n",
       "25    403.8332\n",
       "27    547.9310\n",
       "30    386.1096\n",
       "33    469.6695\n",
       "35    380.2590\n",
       "36    532.4399\n",
       "37    459.8160\n",
       "38    524.1062\n",
       "39    396.2497\n",
       "43    543.8078\n",
       "49    446.1098\n",
       "56    402.4007\n",
       "59    564.1897\n",
       "63    415.4638\n",
       "69    494.5183\n",
       "Name: Math, dtype: float64"
      ]
     },
     "execution_count": 168,
     "metadata": {},
     "output_type": "execute_result"
    }
   ],
   "source": [
    "df_as = df[df.Continent_Code == \"AS\"][\"Math\"]\n",
    "df_as"
   ]
  },
  {
   "cell_type": "code",
   "execution_count": 169,
   "id": "525e070b",
   "metadata": {},
   "outputs": [
    {
     "data": {
      "text/plain": [
       "0     413.1570\n",
       "4     496.7423\n",
       "5     506.9844\n",
       "6     441.1899\n",
       "9     521.2506\n",
       "14    437.1443\n",
       "15    492.3254\n",
       "16    505.9713\n",
       "17    511.0876\n",
       "20    485.8432\n",
       "21    519.5291\n",
       "22    511.0769\n",
       "23    492.9204\n",
       "24    492.4785\n",
       "26    453.6299\n",
       "28    464.0401\n",
       "29    476.8309\n",
       "31    503.7220\n",
       "32    488.0332\n",
       "34    489.7287\n",
       "40    478.3834\n",
       "41    485.7706\n",
       "42    482.3051\n",
       "44    419.6635\n",
       "46    371.3114\n",
       "47    478.6448\n",
       "48    417.9341\n",
       "50    512.2528\n",
       "51    501.7298\n",
       "54    504.4693\n",
       "55    491.6270\n",
       "57    443.9543\n",
       "58    494.0600\n",
       "60    475.2301\n",
       "61    509.9196\n",
       "62    493.9181\n",
       "66    420.4540\n",
       "Name: Math, dtype: float64"
      ]
     },
     "execution_count": 169,
     "metadata": {},
     "output_type": "execute_result"
    }
   ],
   "source": [
    "df_eu = df[df.Continent_Code == \"EU\"][\"Math\"]\n",
    "df_eu"
   ]
  },
  {
   "cell_type": "code",
   "execution_count": 170,
   "id": "5e22c89c",
   "metadata": {},
   "outputs": [
    {
     "data": {
      "text/plain": [
       "LeveneResult(statistic=14.300030628780675, pvalue=0.0004037413184451079)"
      ]
     },
     "execution_count": 170,
     "metadata": {},
     "output_type": "execute_result"
    }
   ],
   "source": [
    "leveneTest = stats.levene(df_as, df_eu)\n",
    "leveneTest"
   ]
  },
  {
   "cell_type": "code",
   "execution_count": 171,
   "id": "c289ef99",
   "metadata": {},
   "outputs": [
    {
     "data": {
      "text/plain": [
       "Ttest_indResult(statistic=-0.7068451468277998, pvalue=0.48761436901117416)"
      ]
     },
     "execution_count": 171,
     "metadata": {},
     "output_type": "execute_result"
    }
   ],
   "source": [
    "indTest = stats.ttest_ind(df_as, df_eu, equal_var = False)\n",
    "indTest"
   ]
  },
  {
   "cell_type": "code",
   "execution_count": 172,
   "id": "688095be",
   "metadata": {},
   "outputs": [
    {
     "name": "stdout",
     "output_type": "stream",
     "text": [
      "H0 hipotezini reject edemeyiz.\n"
     ]
    }
   ],
   "source": [
    "alpha = 0.05\n",
    "\n",
    "if indTest.pvalue < alpha:\n",
    "    print(\"H0 hipotezini reject ederiz.\")\n",
    "else :\n",
    "    print(\"H0 hipotezini reject edemeyiz.\")"
   ]
  },
  {
   "cell_type": "code",
   "execution_count": 173,
   "id": "24b28b6e",
   "metadata": {},
   "outputs": [
    {
     "data": {
      "image/png": "[encoded data removed]",
      "text/plain": [
       "<Figure size 800x600 with 2 Axes>"
      ]
     },
     "metadata": {},
     "output_type": "display_data"
    }
   ],
   "source": [
    "plt.figure(figsize = (8,6))\n",
    "plt.subplot(1,2,1)\n",
    "plt.boxplot(df_as,showmeans =True,  meanprops={\"marker\":\"o\",\n",
    "                           \"markerfacecolor\":\"white\", \n",
    "                           \"markeredgecolor\":\"black\",\n",
    "                           \"markersize\":\"10\"})\n",
    "plt.title(\"MATH AVERAGE OF US\")\n",
    "plt.subplot(1,2,2)\n",
    "plt.boxplot(df_eu, showmeans = True,  meanprops={\"marker\":\"o\",\n",
    "                           \"markerfacecolor\":\"white\", \n",
    "                           \"markeredgecolor\":\"black\",\n",
    "                           \"markersize\":\"10\"})\n",
    "plt.title(\"MATH AVERAGE OF EU\")\n",
    "plt.show()"
   ]
  },
  {
   "cell_type": "code",
   "execution_count": null,
   "id": "1735f2b5",
   "metadata": {},
   "outputs": [],
   "source": []
  }
 ],
 "metadata": {
  "kernelspec": {
   "display_name": "Python 3 (ipykernel)",
   "language": "python",
   "name": "python3"
  },
  "language_info": {
   "codemirror_mode": {
    "name": "ipython",
    "version": 3
   },
   "file_extension": ".py",
   "mimetype": "text/x-python",
   "name": "python",
   "nbconvert_exporter": "python",
   "pygments_lexer": "ipython3",
   "version": "3.9.13"
  }
 },
 "nbformat": 4,
 "nbformat_minor": 5
}
