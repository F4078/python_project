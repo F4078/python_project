#!/usr/bin/env python
# coding: utf-8

# ___
# 
# <a href="https://lms.clarusway.com/course/view.php?id=7435"><img align="center" src="https://i.ibb.co/6Z5pQxD/lmss.png" alt="Open in Clarusway LMS" width="70" height="200" title="Open Clarusway Learning Management Sytem"></a>
# 
# ___
# 
# <a href="https://clarusway.com/"><img align="center" src="https://docs.google.com/uc?id=1lY0Uj5R04yMY3-ZppPWxqCr5pvBLYPnV" alt="CLRSWY" width="450" height="200" title="Welcome to Place Where You can Reinvent Yourself"></a><br/>
# 
# ## <p style="background-color:#FDFEFE; font-family:newtimeroman; color:#9d4f8c; font-size:120%; text-align:center; border-radius:10px 10px;">Way to Reinvent Yourself</p>
# 
# <p style="text-align: center;"><img src="https://i.ibb.co/99DQ3TY/DS-Courses.png" class="img-fluid" 
# alt="CLRSWY"></p>
# 
# 
# 
# ## <p style="background-color:#9d4f8c; font-family:newtimeroman; color:#FFF9ED; font-size:150%; text-align:center; border-radius:10px 10px;">POLICE KILLING US - PANDAS & MATPLOTLIB VISUALiZATION TASK</p>
# 
# <img src=https://i.ibb.co/fr8t7vY/maxresdefault.jpg width="700" height="200">  
# 
# [Photo Credit: Youtube](https://www.youtube.com/watch?v=y_c3IgZGOiQ)
# 
# 
# 
# ## <p style="background-color:#FDFEFE; font-family:newtimeroman; color:#060108; font-size:200%; text-align:center; border-radius:10px 10px;">Data Visualization with Python</p>
# 
# ![Image_Assignment](https://i.ibb.co/cY9HhF7/bnote-assignment.gif)
# 
# ## <p style="background-color:#FDFEFE; font-family:newtimeroman; color:#4d77cf; font-size:150%; text-align:center; border-radius:10px 10px;">Assignment 01 (PoliceKillingUS-Pandas & Matplotlib)</p>

# <a id="toc"></a>
# 
# ## <p style="background-color:#9d4f8c; font-family:newtimeroman; color:#FFF9ED; font-size:150%; text-align:center; border-radius:10px 10px;">CONTENT</p>
# 
# * [ABOUT THE DATASET & CONTEXT](#0)
# * [ABOUT THE FEATURES](#00)
# * [IMPORTING LIBRARIES NEEDED IN THIS NOTEBOOK](#000)
# * [INSTRUCTIONS (Tasks in the Assignment)](#1)
# * [TASK-01 PLOT THE NUMBER OF PEOPLE BY GENDER](#2)
# * [TASK-02 PLOT THE TYPES OF THE MOST 7 COMMON WEAPONS USED TO KILL PEOPLE](#3)
# * [TASK-03 PLOT THE NUMBER OF AGE OF KILLED PEOPLE UNDER TWO GROUPS: UNDER 25 & ABOVE 25](#4)
# * [TASK-04 PLOT THE NUMBER OF KILLED PEOPLE BY RACE](#5) 
# * [TASK-05 PLOT THE NUMBER OF KILLED PEOPLE BY RACE (PIE CHART)](#6)
# * [TASK-06 PLOT THE MOST COMMON 15 FIRST & LAST NAME OF KILLED PEOPLE](#7)
# * [THE END OF THE ASSIGNMENT-01](#8)

# <a id="toc"></a>
# 
# ## <p style="background-color:#9d4f8c; font-family:newtimeroman; color:#FFF9ED; font-size:150%; text-align:center; border-radius:10px 10px;">ABOUT THE DATASET & CONTEXT</p>
# 
# "In 2015, The Washington Post began to log [every fatal shooting](https://www.washingtonpost.com/graphics/national/police-shootings-year-end/) by an on-duty police officer in the United States. In that time there have been [more than 5,000 such shootings](https://www.washingtonpost.com/nation/2019/08/09/what-weve-learned-about-police-shootings-years-after-ferguson/?arc404=true) recorded by The Post. After [Michael Brown, an unarmed Black man, was killed](https://www.washingtonpost.com/policeshootings/) in 2014 by police in Ferguson, Mo., a Post investigation found that the [FBI undercounted fatal police shootings](https://www.washingtonpost.com/news/post-nation/wp/2014/09/08/how-many-police-shootings-a-year-no-one-knows/) by more than half. This is because reporting by police departments is voluntary and many departments fail to do so. The Washington Post’s data relies primarily on news accounts, social media postings and police reports. Analysis of more than five years of data reveals that the number and circumstances of fatal shootings and the overall demographics of the victims have remained relatively constant..." [SOURCE ==> Washington Post Article](https://www.washingtonpost.com/graphics/investigations/police-shootings-database/)
# 
# [For more information about this story](https://www.washingtonpost.com/graphics/investigations/police-shootings-database/)
# 
# 
# This dataset has been prepared by The Washington Post (they keep updating it on runtime) with every fatal shooting in the United States by a police officer in the line of duty since Jan. 1, 2015.
# 
# [2016 PoliceKillingUS DATASET](https://www.washingtonpost.com/graphics/national/police-shootings-2016/)<br>
# [2017 PoliceKillingUS DATASET](https://www.washingtonpost.com/graphics/national/police-shootings-2017/)<br>
# [2018 PoliceKillingUS DATASET](https://www.washingtonpost.com/graphics/2018/national/police-shootings-2018/)<br>
# [2019 PoliceKillingUS DATASET](https://www.washingtonpost.com/graphics/2019/national/police-shootings-2019/)<br>
# [2020 PoliceKillingUS DATASET](https://www.washingtonpost.com/graphics/national/police-shootings-2017/)<br>
# 
# 
# **In this assignment, you are supposed to do the exercise yourself to see if you can solve it. While solving the tasks if you need to remember some subjects, please repeat inclass materails in the course and udemy course videos if provided to you.**

# ## <p style="background-color:#9d4f8c; font-family:newtimeroman; color:#FFF9ED; font-size:150%; text-align:center; border-radius:10px 10px;">ABOUT THE FEATURES</p>
# 
# <a id="00"></a>
# <a href="#toc" class="btn btn-primary btn-sm" role="button" aria-pressed="true" 
# style="color:blue; background-color:#dfa8e4" data-toggle="popover">Content</a>
# 
# The file fatal-police-shootings-data.csv contains data about each fatal shooting in CSV format. The file can be downloaded at this URL. Each row has the following variables:
# 
# - **id:** a unique identifier for each victim
# - **name:** the name of the victim
# - **date:** the date of the fatal shooting in YYYY-MM-DD format
# - **manner_of_death:** shot, shot and Tasered
# - **armed:** indicates that the victim was armed with some sort of implement that a police officer believed could inflict harm
#     - undetermined: it is not known whether or not the victim had a weapon
#     - unknown: the victim was armed, but it is not known what the object was
#     - unarmed: the victim was not armed
# - **age:** the age of the victim
# - **gender:** the gender of the victim. The Post identifies victims by the gender they identify with if reports indicate that it differs from their biological sex.
#     - M: Male
#     - F: Female
#     - None: unknown
# - **race:**
#     - W: White, non-Hispanic
#     - B: Black, non-Hispanic
#     - A: Asian
#     - N: Native American
#     - H: Hispanic
#     - O: Other
#     - None: unknown
# - **city:** the municipality where the fatal shooting took place. Note that in some cases this field may contain a county name if a more specific municipality is unavailable or unknown.
# - **state:** two-letter postal code abbreviation
# - **signs of mental illness:** News reports have indicated the victim had a history of mental health issues, expressed suicidal intentions or was experiencing mental distress at the time of the shooting.
# - **threat_level:** The threat_level column was used to flag incidents for the story by Amy Brittain in October 2015. http://www.washingtonpost.com/sf/investigative/2015/10/24/on-duty-under-fire/ As described in the story, the general criteria for the attack label was that there was the most direct and immediate threat to life. That would include incidents where officers or others were shot at, threatened with a gun, attacked with other weapons or physical force, etc. The attack category is meant to flag the highest level of threat. The other and undetermined categories represent all remaining cases. Other includes many incidents where officers or others faced significant threats.
# - **flee:** News reports have indicated the victim was moving away from officers
#     - Foot
#     - Car
#     - Not fleeing
# 
# The threat column and the fleeing column are not necessarily related. For example, there is an incident in which the suspect is fleeing and at the same time turns to fire at gun at the officer. Also, attacks represent a status immediately before fatal shots by police while fleeing could begin slightly earlier and involve a chase.
# - **body_camera:** News reports have indicated an officer was wearing a body camera and it may have recorded some portion of the incident.
# 
# [SOURCE](https://github.com/washingtonpost/data-police-shootings)

# ## <p style="background-color:#9d4f8c; font-family:newtimeroman; color:#FFF9ED; font-size:150%; text-align:center; border-radius:10px 10px;">IMPORTING LIBRARIES NEEDED IN THIS NOTEBOOK</p>
# 
# <a id="000"></a>
# <a href="#toc" class="btn btn-primary btn-sm" role="button" aria-pressed="true" 
# style="color:blue; background-color:#dfa8e4" data-toggle="popover">Content</a>

# In[1]:


import numpy as np 
import pandas as pd

import seaborn as sns
import matplotlib.pyplot as plt
get_ipython().run_line_magic('matplotlib', 'inline')

from collections import Counter

import warnings
warnings.filterwarnings('ignore') 


# ## <p style="background-color:#9d4f8c; font-family:newtimeroman; color:#FFF9ED; font-size:150%; text-align:center; border-radius:10px 10px;">INSTRUCTIONS (Tasks in the Assignment)</p>
# 
# <a id="1"></a>
# <a href="#toc" class="btn btn-primary btn-sm" role="button" aria-pressed="true" 
# style="color:blue; background-color:#dfa8e4" data-toggle="popover">Content</a>
# 
# **In this assignment you're required to handle with the following tasks:** 
# 
# - **Task 1.** Plotting the number of killed people by gender<br>
# - **Task 2.** Plotting the type of weapon used to kill people<br>
# - **Task 3.** Plotting the killed people by age<br>
# - **Task 4.** Plotting the killed people by race<br>
# - **Task 5.** Plotting the killed people by race (Pie Chart)<br>
# - **Task 6.** Plotting the most common 15 first or last name of killed people<br>
# 
# Before diving into the tasks in the assignment, you have to read the dataset. If you have some obatacles while reading the dataset, we recommend you make a research on 🤔 "how to read the dataset in Pandas" and 🧐 play with the parameters inside the pandas.read_csv() method. You can use encoding="windows-1252" parameter for reading this dataset.
# 
# ⚠️ In this assignment you are supposed to make some visualizations according to the following questions. So, unless otherwise stated, you do NOT need to follow any Exploratory Data Analysis steps, such as handling missing values & outliers, dropping duplicates, and etc., or apply any Pandas method for preparing the dataset to Machine Learning modelling ⚠️
# 
# **Now Let us first try to load and read the PoliceKillingsUS dataset. [SOURCE](https://towardsdatascience.com/learn-how-to-read-data-into-a-pandas-dataframe-in-5-minutes-122af8e0b9db) for learning how to read data into a Pandas DataFrame in 5 minutes.** 

# In[2]:


# Reading and assigning the data to an object named "kill"

# YOUR CODE IS HERE

kill = pd.read_csv("PoliceKillingsUS.csv", encoding = "windows-1252")


# ## <p style="background-color:#9d4f8c; font-family:newtimeroman; color:#FFF9ED; font-size:150%; text-align:center; border-radius:10px 10px;">Task-01: Plot the number of people by gender</p>
# 
# <a id="2"></a>
# <a href="#toc" class="btn btn-primary btn-sm" role="button" aria-pressed="true" 
# style="color:blue; background-color:#dfa8e4" data-toggle="popover">Content</a>

# In[66]:


# YOUR CODE IS HERE

kill.sample(30)


# Desired Output:
# 
# <img src=https://i.ibb.co/bF8hKvn/DV1-1a.png width="800" height="200">  

# In[37]:


kill.info()


# In[7]:


kill.armed.unique()


# In[8]:


kill.groupby("gender").sum().index


# In[9]:


kill.gender.value_counts().index


# In[22]:


# With Matplolib

# YOUR CODE IS HERE

x = kill.gender.value_counts().index
y =  kill.gender.value_counts()
plt.bar(kill.gender.value_counts().index, kill.gender.value_counts() ) 
plt.title("Gender Distribution ") 

for i in range(len(x)):
    plt.text( x[i], y[i], str(y[i]), ha='center', va='bottom' ) ;


# Desired Output:
# 
# <img src=https://i.ibb.co/WpwcpnR/DV1-1.png width="400" height="200">  

# In[32]:


# With Pandas

# YOUR CODE IS HERE
fig, ax = plt.subplots()
kill.gender.value_counts().plot.bar() 
ax.set_title("Gender Distribution ") 
ax.bar_label(ax.containers[0], 
             color="purple", 
             size=10);


# Desired Output:
# 
# <img src=https://i.ibb.co/WpwcpnR/DV1-1.png width="400" height="200">  

# ## <p style="background-color:#9d4f8c; font-family:newtimeroman; color:#FFF9ED; font-size:150%; text-align:center; border-radius:10px 10px;">Task-02: Plot the types of the most 7 common weapons used to kill people</p>
# 
# <a id="3"></a>
# <a href="#toc" class="btn btn-primary btn-sm" role="button" aria-pressed="true" 
# style="color:blue; background-color:#dfa8e4" data-toggle="popover">Content</a>

# In[13]:


kill.armed.value_counts(ascending = False).head(5)

Desired Output:

gun             1398
knife            373
vehicle          177
unarmed          171
undetermined     117
toy weapon       104
machete           18
Name: armed, dtype: int64 
# In[14]:


kill.armed.value_counts(ascending = False).head(5).index


# In[15]:


kill.armed.value_counts(ascending = False).head(5).values


# In[36]:


# With Matplolib

# YOUR CODE IS HERE
fig, ax = plt.subplots()
ax.bar(kill.armed.value_counts(ascending = False).head(5).index, kill.armed.value_counts(ascending = False).head(5).values)

ax.bar_label(ax.containers[0]) ;


# Desired Output:
# 
# <img src=https://i.ibb.co/vHb5L1Q/DV1-2.png width="400" height="200">  

# In[41]:


# With Pandas

# YOUR CODE IS HERE
fig, ax = plt.subplots()
kill.armed.value_counts(ascending = False).head(5).plot(kind = "bar", ax = ax) ;


ax.bar_label(ax.containers[0]) ;


# Desired Output:
# 
# <img src=https://i.ibb.co/yFC1yhH/DV1-2a.png width="400" height="200">  

# ## <p style="background-color:#9d4f8c; font-family:newtimeroman; color:#FFF9ED; font-size:150%; text-align:center; border-radius:10px 10px;">Task-03: Plot the number of age of killed people under two groups: Under 25 and Above 25</p>
# 
# <a id="4"></a>
# <a href="#toc" class="btn btn-primary btn-sm" role="button" aria-pressed="true" 
# style="color:blue; background-color:#dfa8e4" data-toggle="popover">Content</a>

# In[18]:


# YOUR CODE IS HERE
kill.head(5)


# Desired Output:
# 
# <img src=https://i.ibb.co/bF8hKvn/DV1-1a.png width="800" height="200">  

# In[44]:


# YOUR CODE IS HERE
kill["age_cat"] = kill.age.apply(lambda x : "above25" if x >= 25 else "below25" if x < 25 else "others")
kill.head()


# Desired Output:
# 
# <img src=https://i.ibb.co/7G2kq8x/DV1-3a.png width="800" height="200">  

# In[22]:


# YOUR CODE IS HERE
kill["age_cat"].value_counts()

Desired Output:

above25    2008
below25     450
others       77
Name: age_cat, dtype: int64
# In[45]:


# With Matplolib

# YOUR CODE IS HERE
fig, ax = plt.subplots()
ax.bar(kill["age_cat"].value_counts().index, kill["age_cat"].value_counts().values) 

ax.bar_label(ax.containers[0]) ;


# Desired Output:
# 
# <img src=https://i.ibb.co/8N5dYDC/DV1-3b.png width="400" height="200">  

# In[48]:


# With Pandas

# YOUR CODE IS HERE
fig,ax = plt.subplots()
kill["age_cat"].value_counts().plot(kind = "bar") 
ax.bar_label(ax.containers[0]) ;


# Desired Output:
# 
# <img src=https://i.ibb.co/94b7Hy4/DV1-3c.png width="400" height="200">  

# ## <p style="background-color:#9d4f8c; font-family:newtimeroman; color:#FFF9ED; font-size:150%; text-align:center; border-radius:10px 10px;">Task-04: Plot the number of killed people by race</p>
# 
# <a id="5"></a>
# <a href="#toc" class="btn btn-primary btn-sm" role="button" aria-pressed="true" 
# style="color:blue; background-color:#dfa8e4" data-toggle="popover">Content</a>

# In[138]:


# YOUR CODE IS HERE

kill.race.value_counts()

Desired Output:

W    1201
B     618
H     423
A      39
N      31
O      28
Name: race, dtype: int64
# In[149]:


kill.race.value_counts().values


# In[50]:


# With Matplolib

# YOUR CODE IS HERE
fig,ax = plt.subplots()
ax.bar(kill.race.value_counts().index, kill.race.value_counts().values) 
ax.set_title("Race of killed people",color = "blue" ) ;
ax.bar_label(ax.containers[0]);


# Desired Output:
# 
# <img src=https://i.ibb.co/CWdWQkG/DV1-4.png width="400" height="200">  

# In[51]:


# With Pandas

# YOUR CODE IS HERE
fig,ax = plt.subplots()
kill.race.value_counts().plot(kind = "bar") ;
ax.set_title("Race of killed people", color = "blue")
ax.bar_label(ax.containers[0]) ;


# Desired Output:
# 
# <img src=https://i.ibb.co/hBb91Gk/DV1-4a.png width="400" height="200">  

# ## <p style="background-color:#9d4f8c; font-family:newtimeroman; color:#FFF9ED; font-size:150%; text-align:center; border-radius:10px 10px;">Task-05: Plot the number of killed people by race (Pie Chart)</p>
# 
# <a id="6"></a>
# <a href="#toc" class="btn btn-primary btn-sm" role="button" aria-pressed="true" 
# style="color:blue; background-color:#dfa8e4" data-toggle="popover">Content</a>

# In[28]:


# Let's remember our DataFrame

# YOUR CODE IS HERE

kill.head()


# Desired Output:
# 
# <img src=https://i.ibb.co/7G2kq8x/DV1-3a.png width="800" height="200">  

# In[8]:


# YOUR CODE IS HERE

kill.race.unique()

Desired Output:

array(['A', 'W', 'H', 'B', 'O', nan, 'N'], dtype=object)
# In[13]:


# YOUR CODE IS HERE
kill.race.value_counts(dropna = False)

Desired Output:

W      1201
B       618
H       423
NaN     195
A        39
N        31
O        28
Name: race, dtype: int64
# Problem: missing value on race column.

# **INSTRUCTION-1: Drop all rows that contain missing value (dropna)**

# In[80]:


# Let's drop all rows that contain missing value 

# YOUR CODE IS HERE
kill.dropna(inplace = True)


# In[82]:


# YOUR CODE IS HERE

kill.shape

Desired Output:

(2254, 15)
# **INSTRUCTION-2: Demonstrate Race Ratio of Killed People by a Pie Chart (You can use Matplotlib)**

# In[83]:


kill.race.value_counts()

Desired Output:

W    1168
B     592
H     401
A      36
N      29
O      28
Name: race, dtype: int64
# In[88]:


# YOUR CODE IS HERE

label_race = kill.race.value_counts().index
label_race

Desired Output:

Index(['W', 'B', 'H', 'A', 'N', 'O'], dtype='object')
# In[89]:


# YOUR CODE IS HERE

value_race = kill.race.value_counts().values
value_race

Desired Output:

array([1168,  592,  401,   36,   29,   28])
# In[108]:


# With Matplolib

# YOUR CODE IS HERE

plt.pie(value_race, labels = label_race, labeldistance = 0.8, explode = [0,0,0.2,0,0,0], autopct = "%.1f") ;




# Desired Output:
# 
# <img src=https://i.ibb.co/F0vJJ9p/DV1-5.png width="400" height="200">  

# <a id="8"></a>
# <a href="#toc" class="btn btn-primary btn-sm" role="button" aria-pressed="true" 
# style="color:blue; background-color:#dfa8e4" data-toggle="popover">Content</a>
# 
# ## <p style="background-color:#9d4f8c; font-family:newtimeroman; color:#FFF9ED; font-size:150%; text-align:center; border-radius:10px 10px;">THE END OF THE ASSIGNMENT-01</p>
# 
# # Now. it's time to relax! Take your time and sip your coffee
# 
# <img src=https://i.ibb.co/jZD3Mqb/relaxing.jpg width="800" height="200">  
# 
# 
# <p style="text-align: center;"><img src="https://i.ibb.co/99DQ3TY/DS-Courses.png" class="img-fluid" 
# alt="CLRSWY"></p>
# 
# <a href="https://clarusway.com/"><img align="center" src="https://docs.google.com/uc?id=1lY0Uj5R04yMY3-ZppPWxqCr5pvBLYPnV" alt="CLRSWY" title="Way to Reinvent Yourself"></a><br/>
# 
# 
# ## <p style="background-color:#FDFEFE; font-family:newtimeroman; color:#9d4f8c; font-size:120%; text-align:center; border-radius:10px 10px;">Way to Reinvent Yourself</p>
# ___
