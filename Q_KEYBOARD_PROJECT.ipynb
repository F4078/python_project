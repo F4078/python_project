{
  "nbformat": 4,
  "nbformat_minor": 0,
  "metadata": {
    "colab": {
      "provenance": [],
      "collapsed_sections": [],
      "authorship_tag": "ABX9TyMJ6z9LsTCqShCRp2tCN1wT",
      "include_colab_link": true
    },
    "kernelspec": {
      "name": "python3",
      "display_name": "Python 3"
    },
    "language_info": {
      "name": "python"
    },
    "accelerator": "GPU",
    "gpuClass": "standard"
  },
  "cells": [
    {
      "cell_type": "markdown",
      "metadata": {
        "id": "view-in-github",
        "colab_type": "text"
      },
      "source": [
        "<a href=\"https://colab.research.google.com/github/F4078/python_project/blob/main/Q_KEYBOARD_PROJECT.ipynb\" target=\"_parent\"><img src=\"https://colab.research.google.com/assets/colab-badge.svg\" alt=\"Open In Colab\"/></a>"
      ]
    },
    {
      "cell_type": "markdown",
      "source": [
        "Task : Find out if the given word is \"comfortable words\" in relation to the ten-finger keyboard use.\n",
        "A comfortable word is a word which you can type always alternating the hand you type with (assuming you type using a Q-keyboard and use of the ten-fingers standard).\n",
        "\n",
        "The word will always be a string consisting of only letters from a to z.\n",
        "\n",
        "Write a program which returns True if it's a comfortable word or False otherwise."
      ],
      "metadata": {
        "id": "rDsmkug_Dur7"
      }
    },
    {
      "cell_type": "code",
      "execution_count": 10,
      "metadata": {
        "id": "diEklX050pZI"
      },
      "outputs": [],
      "source": [
        "left = [\"q, w, e, r, t, a, s, d, f, g, z, x, c, v, b\"]\n",
        "right = [\"y, u, i, o, p, h, j, k, l, n, m\"]"
      ]
    },
    {
      "cell_type": "code",
      "source": [
        "word = input(\"enter a word\")\n",
        "left1 = set(left)\n",
        "right1 = set(right)\n",
        "\n",
        "leftcheck = bool(set(word) & left1)\n",
        "rightcheck = bool(set(word) & right1)\n",
        "\n",
        "sonuç = leftcheck and rightcheck \n",
        "\n",
        "print (f\"{word} bir comfortable worddür \" * int(sonuç))\n",
        "print (f\" {word} bir comfortable word degildir. \" * int( not sonuç))"
      ],
      "metadata": {
        "id": "A3wohjON9rhJ",
        "colab": {
          "base_uri": "https://localhost:8080/"
        },
        "outputId": "bee65c67-82f3-4b4e-be69-0a3bcdf3c725"
      },
      "execution_count": 15,
      "outputs": [
        {
          "output_type": "stream",
          "name": "stdout",
          "text": [
            "enter a wordyui\n",
            "\n",
            " yui bir comfortable word degildir. \n"
          ]
        }
      ]
    }
  ]
}