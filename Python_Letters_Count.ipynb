{
  "nbformat": 4,
  "nbformat_minor": 0,
  "metadata": {
    "colab": {
      "provenance": [],
      "authorship_tag": "ABX9TyO+cz+Hnx/ygPn88iUXGrCY",
      "include_colab_link": true
    },
    "kernelspec": {
      "name": "python3",
      "display_name": "Python 3"
    },
    "language_info": {
      "name": "python"
    }
  },
  "cells": [
    {
      "cell_type": "markdown",
      "metadata": {
        "id": "view-in-github",
        "colab_type": "text"
      },
      "source": [
        "<a href=\"https://colab.research.google.com/github/F4078/python_project/blob/main/Python_Letters_Count.ipynb\" target=\"_parent\"><img src=\"https://colab.research.google.com/assets/colab-badge.svg\" alt=\"Open In Colab\"/></a>"
      ]
    },
    {
      "cell_type": "code",
      "execution_count": null,
      "metadata": {
        "id": "gzULxgKGA8xW"
      },
      "outputs": [],
      "source": []
    },
    {
      "cell_type": "markdown",
      "source": [
        "Task:\n",
        "\n",
        "Count the number of each letter in a sentence.\n",
        "\n",
        "    The department you work for undertook a project construction that makes word / text analysis. \n",
        "    You are asked to calculate the number of letters or any chars in the sentences entered under this project.\n",
        "\n",
        "    Write a Python program that;\n",
        "\n",
        "       takes a sentence from the user,\n",
        "\n",
        "       counts the number of each letter/chars of the sentence,\n",
        "\n",
        "       collects the letters/chars as a key and the counted numbers as a value in a dictionary.\n"
      ],
      "metadata": {
        "id": "EPE-nUVKBEDp"
      }
    },
    {
      "cell_type": "markdown",
      "source": [
        "**''' 1ST WAY '''**"
      ],
      "metadata": {
        "id": "3nkbvQepCXZ6"
      }
    },
    {
      "cell_type": "code",
      "source": [
        "text = input(\"enter any sentence\")\n",
        "count = {}\n",
        "for i in text :\n",
        "  if i not in count :\n",
        "    count[i] = 0\n",
        "\n",
        "  count[i] += 1 \n",
        "\n",
        "print(count)"
      ],
      "metadata": {
        "colab": {
          "base_uri": "https://localhost:8080/"
        },
        "id": "bxhM2uBtChUe",
        "outputId": "3b9b38f0-8523-4133-dc70-98287906629c"
      },
      "execution_count": 5,
      "outputs": [
        {
          "output_type": "stream",
          "name": "stdout",
          "text": [
            "enter any sentencehello world\n",
            "{'h': 1, 'e': 1, 'l': 3, 'o': 2, ' ': 1, 'w': 1, 'r': 1, 'd': 1}\n"
          ]
        }
      ]
    },
    {
      "cell_type": "markdown",
      "source": [
        "**\"2ST WAY \"**"
      ],
      "metadata": {
        "id": "6jL0w4loHI5d"
      }
    },
    {
      "cell_type": "code",
      "source": [
        "from typing import Counter\n",
        "Counter"
      ],
      "metadata": {
        "colab": {
          "base_uri": "https://localhost:8080/"
        },
        "id": "1j5Hy77DHE4p",
        "outputId": "eb26d894-f873-4f92-88d4-c1967d83a020"
      },
      "execution_count": 6,
      "outputs": [
        {
          "output_type": "execute_result",
          "data": {
            "text/plain": [
              "typing.Counter"
            ]
          },
          "metadata": {},
          "execution_count": 6
        }
      ]
    },
    {
      "cell_type": "code",
      "source": [
        "text = input(\"enter any sentence : \")\n",
        "letter_dict = Counter(text)\n",
        "print(dict(Counter(text)))"
      ],
      "metadata": {
        "colab": {
          "base_uri": "https://localhost:8080/"
        },
        "id": "cAnFaR5mHO8I",
        "outputId": "2e0e2647-cfc0-46ca-8a28-b9ac013a30d5"
      },
      "execution_count": 7,
      "outputs": [
        {
          "output_type": "stream",
          "name": "stdout",
          "text": [
            "enter any sentence : everything hi \n",
            "{'e': 2, 'v': 1, 'r': 1, 'y': 1, 't': 1, 'h': 2, 'i': 2, 'n': 1, 'g': 1, ' ': 2}\n"
          ]
        }
      ]
    }
  ]
}