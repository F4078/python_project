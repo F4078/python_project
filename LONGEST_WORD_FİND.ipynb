{
  "nbformat": 4,
  "nbformat_minor": 0,
  "metadata": {
    "colab": {
      "provenance": [],
      "collapsed_sections": [],
      "authorship_tag": "ABX9TyPrq7YEoqDHuZEL9wChzAKL",
      "include_colab_link": true
    },
    "kernelspec": {
      "name": "python3",
      "display_name": "Python 3"
    },
    "language_info": {
      "name": "python"
    }
  },
  "cells": [
    {
      "cell_type": "markdown",
      "metadata": {
        "id": "view-in-github",
        "colab_type": "text"
      },
      "source": [
        "<a href=\"https://colab.research.google.com/github/F4078/python_project/blob/main/LONGEST_WORD_F%C4%B0ND.ipynb\" target=\"_parent\"><img src=\"https://colab.research.google.com/assets/colab-badge.svg\" alt=\"Open In Colab\"/></a>"
      ]
    },
    {
      "cell_type": "markdown",
      "source": [
        "Find and print the length of the **longest word**. \n",
        "\n",
        "write a program that ;\n",
        "   >Takes a **string sentence** consisting of a couple of words from the user ,\n",
        "\n",
        "  >compares and find out the **longest** word and **prints** the whole sentence and the **lenght** of the longest word as **int** type.\n",
        "\n",
        "  >  Use **while** loop\n"
      ],
      "metadata": {
        "id": "RVcT8YXADGt7"
      }
    },
    {
      "cell_type": "code",
      "source": [
        "sentence = input(\"giive a sentence : \")\n",
        "word_list = sentence.split()\n",
        "longest = 0\n",
        "i = 0\n",
        "\n",
        "while i < len(word_list) :\n",
        "   if len(word_list[i]) > longest :\n",
        "       longest = len(word_list[i]) \n",
        "\n",
        "   i += 1\n",
        "\n",
        "print(\"the lenght of the longest word :  \", longest)"
      ],
      "metadata": {
        "id": "sM2VSpZhFab6"
      },
      "execution_count": null,
      "outputs": []
    }
  ]
}