{
  "nbformat": 4,
  "nbformat_minor": 0,
  "metadata": {
    "colab": {
      "provenance": [],
      "collapsed_sections": [],
      "authorship_tag": "ABX9TyOJsB9u5XAZtN8HUY9neLq2",
      "include_colab_link": true
    },
    "kernelspec": {
      "name": "python3",
      "display_name": "Python 3"
    },
    "language_info": {
      "name": "python"
    }
  },
  "cells": [
    {
      "cell_type": "markdown",
      "metadata": {
        "id": "view-in-github",
        "colab_type": "text"
      },
      "source": [
        "<a href=\"https://colab.research.google.com/github/F4078/python_project/blob/main/Armstrong_Number_assignment.ipynb\" target=\"_parent\"><img src=\"https://colab.research.google.com/assets/colab-badge.svg\" alt=\"Open In Colab\"/></a>"
      ]
    },
    {
      "cell_type": "markdown",
      "source": [
        "Find out if a given number is an \"Armstrong Number\".\n",
        "\n",
        "An n-digit number that is the sum of the nth powers of its digits is called an n-Armstrong number.\n",
        "\n",
        "Examples :\n",
        "\n",
        "\n",
        "371 = 33 + 73 + 13;\n",
        "\n",
        "9474 = 94 + 44 + 74 + 44;\n",
        "\n",
        "93084 = 95 + 35 + 05 + 85 + 45.\n",
        "\n",
        "Write a Python program that;\n",
        "\n",
        "takes a positive integer number from the user,\n",
        "\n",
        "\n",
        "checks the entered number if it is Armstrong,\n",
        "\n",
        "consider the negative, float and any entries other than numeric values then display a warning message to the user.\n"
      ],
      "metadata": {
        "id": "Fye9KjGzCfw0"
      }
    },
    {
      "cell_type": "code",
      "source": [
        "while True :\n",
        "  number = input(\"enter a posıtıve integer number \")\n",
        "  digits = len(number)\n",
        "  sum_ = 0\n",
        "\n",
        "  if not number.isdigit() :\n",
        "        print(number, \"is invalid entry. Please ennter valid input.\")\n",
        "  elif int(number) >= 0 :\n",
        "       for i in range(len(number)) :\n",
        "          sum_ = sum_ + int(number[i]) ** digits\n",
        "       if sum_ == int(number) :\n",
        "             print(number, \"is an armstrong number.\")\n",
        "             break\n",
        "       else :\n",
        "             print(number, \"is not armstrong number.\")\n",
        "             break   "
      ],
      "metadata": {
        "id": "HOs1FjP6C567"
      },
      "execution_count": null,
      "outputs": []
    }
  ]
}