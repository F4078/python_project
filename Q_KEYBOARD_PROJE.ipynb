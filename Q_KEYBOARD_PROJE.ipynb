{
  "nbformat": 4,
  "nbformat_minor": 0,
  "metadata": {
    "colab": {
      "provenance": [],
      "collapsed_sections": [],
      "authorship_tag": "ABX9TyMf1ykSdXi6UFy5I7UrVL8W",
      "include_colab_link": true
    },
    "kernelspec": {
      "name": "python3",
      "display_name": "Python 3"
    },
    "language_info": {
      "name": "python"
    },
    "gpuClass": "standard"
  },
  "cells": [
    {
      "cell_type": "markdown",
      "metadata": {
        "id": "view-in-github",
        "colab_type": "text"
      },
      "source": [
        "<a href=\"https://colab.research.google.com/github/F4078/python_project/blob/main/Q_KEYBOARD_PROJE.ipynb\" target=\"_parent\"><img src=\"https://colab.research.google.com/assets/colab-badge.svg\" alt=\"Open In Colab\"/></a>"
      ]
    },
    {
      "cell_type": "markdown",
      "source": [
        "**Task : Find out if the given word is \"comfortable words\" in relation to the ten-finger keyboard use.**\n",
        "\n",
        "**A comfortable word is a word which you can type always alternating the hand you type with (assuming you type using a Q-keyboard and use of the ten-fingers standard).**\n",
        "**The word will always be a string consisting of only letters from a to z.**\n",
        "**Write a program which returns True if it's a comfortable word or False otherwise.**\n",
        "\n",
        "Examples\n",
        "\n",
        "**Given            word Desired Output (explanation**)\n",
        "\n",
        "**tester\t         False (uses only left-hand fingers)** \n",
        "\n",
        "**polly\t          False (uses only right-hand fingers)**\n",
        "\n"
      ],
      "metadata": {
        "id": "NGiw2SPNMi35"
      }
    },
    {
      "cell_type": "code",
      "source": [
        "word = set(input(\"anything word enter :\"))\n",
        "left_hand_fingers = {'q', 'w', 'e', 'r', 't', 'a', 's', 'd', 'f', 'g', 'z', 'x', 'c', 'v', 'b'}\n",
        "right_hand_fingers = {'y', 'u', 'i', 'o', 'p', 'h', 'j', 'k', 'l', 'n', 'm'}\n",
        "\n",
        "if (word & left_hand_fingers != set()) and (word & right_hand_fingers != set()) :\n",
        "                print(\"comfortable word\")\n",
        "elif word & left_hand_fingers == set() :\n",
        "                print(\"only rihgt hand fingers\")\n",
        "else :\n",
        "     print(\"only left hand fingers\")\n"
      ],
      "metadata": {
        "colab": {
          "base_uri": "https://localhost:8080/"
        },
        "id": "BvC0UNKnHISH",
        "outputId": "f51a7088-c43e-4c9c-aa27-8a63566e2a46"
      },
      "execution_count": 6,
      "outputs": [
        {
          "output_type": "stream",
          "name": "stdout",
          "text": [
            "anything word enter :wer\n",
            "only left hand fingers\n"
          ]
        }
      ]
    }
  ]
}