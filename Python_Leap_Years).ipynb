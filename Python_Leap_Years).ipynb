{
  "nbformat": 4,
  "nbformat_minor": 0,
  "metadata": {
    "colab": {
      "provenance": [],
      "collapsed_sections": [],
      "authorship_tag": "ABX9TyPtp4K4VMRkDalVF3kfYj+y",
      "include_colab_link": true
    },
    "kernelspec": {
      "name": "python3",
      "display_name": "Python 3"
    },
    "language_info": {
      "name": "python"
    },
    "accelerator": "GPU",
    "gpuClass": "standard"
  },
  "cells": [
    {
      "cell_type": "markdown",
      "metadata": {
        "id": "view-in-github",
        "colab_type": "text"
      },
      "source": [
        "<a href=\"https://colab.research.google.com/github/F4078/python_project/blob/main/Python_Leap_Years).ipynb\" target=\"_parent\"><img src=\"https://colab.research.google.com/assets/colab-badge.svg\" alt=\"Open In Colab\"/></a>"
      ]
    },
    {
      "cell_type": "markdown",
      "source": [
        "\n",
        "\n",
        "Find out if a given year is a \"leap\" year.\n",
        "\n",
        "In the Gregorian calendar, three criteria must be taken into account to identify leap years:\n",
        "\n",
        "The year must be evenly divisible by **4**\n",
        "\n",
        "If the year can also be evenly divided by **100**, it is not a leap year; unless...\n",
        "The year is also evenly divisible by **400**. Then it is a leap year\n",
        "\n",
        "According to these rules, the years** 2000** and **2400** are leap years, while **1800, 1900, 2100, 2200, 2300, and 2500 are not the leap years.**\n",
        "Write a Python program that prints such as \"**2020 is a leap year\"** if the given year by the user is a leap year, prints such as **\"2019 is not a leap year\"** otherwise."
      ],
      "metadata": {
        "id": "aM8DDrxsvHjf"
      }
    },
    {
      "cell_type": "code",
      "execution_count": 11,
      "metadata": {
        "colab": {
          "base_uri": "https://localhost:8080/"
        },
        "id": "1vErQS0AoVnL",
        "outputId": "144b9e0b-18ac-41a2-c947-be81b5e05a37"
      },
      "outputs": [
        {
          "output_type": "stream",
          "name": "stdout",
          "text": [
            "anything a year enter :2020\n",
            " 2020 is a leap year \n"
          ]
        }
      ],
      "source": [
        "years = int(input(\"anything a year enter :\" ))\n",
        "\n",
        "if years % 4 == 0 and (years % 100 != 0 or years % 400  == 0 ):\n",
        "    print( f\" {years} is a leap year \")\n",
        "else :\n",
        "  print(f\"{years} is not a leap year\")    \n"
      ]
    },
    {
      "cell_type": "code",
      "source": [],
      "metadata": {
        "id": "Y__Nbi88qt4E"
      },
      "execution_count": null,
      "outputs": []
    },
    {
      "cell_type": "code",
      "source": [
        "\n"
      ],
      "metadata": {
        "id": "DnGVR3uEqyFn"
      },
      "execution_count": null,
      "outputs": []
    }
  ]
}