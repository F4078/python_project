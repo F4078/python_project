{
  "nbformat": 4,
  "nbformat_minor": 0,
  "metadata": {
    "colab": {
      "provenance": [],
      "collapsed_sections": [],
      "authorship_tag": "ABX9TyNMdVIp4Jecx1yUcQlMCX+g",
      "include_colab_link": true
    },
    "kernelspec": {
      "name": "python3",
      "display_name": "Python 3"
    },
    "language_info": {
      "name": "python"
    }
  },
  "cells": [
    {
      "cell_type": "markdown",
      "metadata": {
        "id": "view-in-github",
        "colab_type": "text"
      },
      "source": [
        "<a href=\"https://colab.research.google.com/github/F4078/python_project/blob/main/Password_Reminder.ipynb\" target=\"_parent\"><img src=\"https://colab.research.google.com/assets/colab-badge.svg\" alt=\"Open In Colab\"/></a>"
      ]
    },
    {
      "cell_type": "markdown",
      "source": [
        "Task : Let's say; you left a message in the past that prints a password you need. To see the password you wrote, you need to enter your name and the program should recognize you.\n",
        "\n",
        "Write a program that \n",
        "\n",
        "1.Takes the first name from the user and compares it to yours,\n",
        "\n",
        "2.Then if the name the user entered is the same as yours, print out such as : \"Hello, Joseph! The password is : W@12\", \n",
        "\n",
        "3.If the name the user entered is not the same as yours, print out such as : \"Hello, Amina! See you later.\""
      ],
      "metadata": {
        "id": "hO0gXYq1SV3j"
      }
    },
    {
      "cell_type": "code",
      "execution_count": 1,
      "metadata": {
        "colab": {
          "base_uri": "https://localhost:8080/"
        },
        "id": "vmwNruJ2SG5D",
        "outputId": "d9f9641a-efc7-4309-c53e-97d63f490be7"
      },
      "outputs": [
        {
          "output_type": "stream",
          "name": "stdout",
          "text": [
            "anything a word enterjoseph\n",
            "Merhaba joseph the password is :  1234567\n"
          ]
        }
      ],
      "source": [
        "record_code = [\"joseph\", \"1234567\"]\n",
        "enter_word = input(\"anything a word enter\")\n",
        "\n",
        "if enter_word == record_code[0] :\n",
        "    print(f\"Merhaba {record_code[0]} the password is : \", record_code[1])\n",
        "\n",
        "else : \n",
        "    print(f\"Merhaba {enter_word}! see you later\")"
      ]
    }
  ]
}